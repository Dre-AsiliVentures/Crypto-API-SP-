{
 "cells": [
  {
   "cell_type": "markdown",
   "metadata": {},
   "source": [
    "# BTC USDT Machine Learning Model using KNN"
   ]
  },
  {
   "cell_type": "code",
   "execution_count": 11,
   "metadata": {},
   "outputs": [],
   "source": [
    "from matplotlib import pyplot as plt\n",
    "import pandas as pd\n",
    "from sklearn.neighbors import KNeighborsRegressor\n",
    "from sklearn.metrics import mean_squared_error, r2_score"
   ]
  },
  {
   "cell_type": "code",
   "execution_count": 12,
   "metadata": {},
   "outputs": [],
   "source": [
    "btc=pd.read_csv('DataFullTest.csv')"
   ]
  },
  {
   "cell_type": "code",
   "execution_count": 3,
   "metadata": {},
   "outputs": [],
   "source": [
    "rows_count=len(btc.index)\n",
    "#Conventional 70-30 rule for training and validation data set\"\"\"\n",
    "train_rows=int(0.7*rows_count)\n",
    "test_rows=int(0.3*rows_count)\n",
    "data= btc.tail(rows_count) \n",
    "data_test=btc.head(test_rows) # Validate the data model with 30% of the data\n"
   ]
  },
  {
   "cell_type": "code",
   "execution_count": 6,
   "metadata": {},
   "outputs": [],
   "source": [
    "btc_open_data=data.Open.values.reshape(-1,1)\n",
    "btc_close_data=data.Close.values.reshape(-1,1)\n",
    "btc_close_test_data=data_test.Close.values.reshape(-1,1)"
   ]
  },
  {
   "cell_type": "code",
   "execution_count": 10,
   "metadata": {},
   "outputs": [
    {
     "name": "stdout",
     "output_type": "stream",
     "text": [
      "[[1918.55666667]\n",
      " [1924.18666667]\n",
      " [1922.        ]\n",
      " ...\n",
      " [1631.83333333]\n",
      " [1634.34      ]\n",
      " [1634.23666667]]\n"
     ]
    }
   ],
   "source": [
    "KNN_model = KNeighborsRegressor(n_neighbors=3).fit(btc_open_data,btc_close_data) # Fit(X,Y)\n",
    "closeData_KNN_predict = KNN_model.predict(btc_open_data)  # Y_predict=Predict (X)\n",
    "print(closeData_KNN_predict)"
   ]
  },
  {
   "cell_type": "code",
   "execution_count": 14,
   "metadata": {},
   "outputs": [
    {
     "name": "stdout",
     "output_type": "stream",
     "text": [
      "Mean Squared Error:8.868926739085799\n",
      "R2_Score:0.9990980330726392\n"
     ]
    }
   ],
   "source": [
    "MSE=mean_squared_error(btc_close_data,closeData_KNN_predict)\n",
    "print(\"Mean Squared Error:\" +str(MSE))\n",
    "# RMSE=sqrt(mean_squared_error(btc_close_data,closeData_KNN_predict))\n",
    "# print(\"RMSE:\" +str(RMSE))\n",
    "R2_Score=r2_score(btc_close_data,closeData_KNN_predict)\n",
    "print(\"R2_Score:\" +str(R2_Score))"
   ]
  },
  {
   "cell_type": "code",
   "execution_count": 15,
   "metadata": {},
   "outputs": [
    {
     "data": {
      "text/plain": [
       "<matplotlib.collections.PathCollection at 0x1dd6c56cfd0>"
      ]
     },
     "execution_count": 15,
     "metadata": {},
     "output_type": "execute_result"
    },
    {
     "data": {
      "image/png": "[encoded data removed]",
      "text/plain": [
       "<Figure size 432x288 with 1 Axes>"
      ]
     },
     "metadata": {
      "needs_background": "light"
     },
     "output_type": "display_data"
    }
   ],
   "source": [
    "plt.title(\"BTC-USDT Predicted data\")\n",
    "plt.scatter(btc_open_data,closeData_KNN_predict, label='Predicted data')"
   ]
  }
 ],
 "metadata": {
  "kernelspec": {
   "display_name": "base",
   "language": "python",
   "name": "python3"
  },
  "language_info": {
   "codemirror_mode": {
    "name": "ipython",
    "version": 3
   },
   "file_extension": ".py",
   "mimetype": "text/x-python",
   "name": "python",
   "nbconvert_exporter": "python",
   "pygments_lexer": "ipython3",
   "version": "3.9.7"
  }
 },
 "nbformat": 4,
 "nbformat_minor": 2
}
