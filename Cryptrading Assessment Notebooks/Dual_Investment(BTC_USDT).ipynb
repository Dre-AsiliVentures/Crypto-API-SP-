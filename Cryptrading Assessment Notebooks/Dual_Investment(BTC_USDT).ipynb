{
 "cells": [
  {
   "cell_type": "code",
   "execution_count": 160,
   "id": "e48282f2",
   "metadata": {},
   "outputs": [],
   "source": [
    "# Author: GreHiDeL\n",
    "#ML Reference: https://www.askpython.com/python/examples/python-predict-function"
   ]
  },
  {
   "cell_type": "code",
   "execution_count": 161,
   "id": "7d008854",
   "metadata": {},
   "outputs": [],
   "source": [
    "import pandas as pd\n",
    "from sklearn.tree import DecisionTreeRegressor\n",
    "from datetime import date,timedelta"
   ]
  },
  {
   "cell_type": "code",
   "execution_count": 162,
   "id": "76cd0c45",
   "metadata": {},
   "outputs": [],
   "source": [
    "link=\"https://www.cryptodatadownload.com/cdd/Binance_BTCUSDT_d.csv\"\n",
    "btc = pd.read_csv(link, skiprows=1, usecols=['date', 'close','open'])"
   ]
  },
  {
   "cell_type": "code",
   "execution_count": 163,
   "id": "2f883359",
   "metadata": {},
   "outputs": [],
   "source": [
    "today=date.today()\n",
    "today_date=today.strftime(\"%Y-%m-%d\")\n",
    "#diff_date=timedelta(date=10)#Timedelta for difference between two dates\n",
    "btc=btc.loc[:today_date]"
   ]
  },
  {
   "cell_type": "code",
   "execution_count": 175,
   "id": "4056992d",
   "metadata": {
    "scrolled": true
   },
   "outputs": [
    {
     "name": "stdout",
     "output_type": "stream",
     "text": [
      "                    date      open     close\n",
      "0    2022-04-27 00:00:00  38112.64  38172.34\n",
      "1    2022-04-26 00:00:00  40426.08  38112.65\n",
      "2    2022-04-25 00:00:00  39450.12  40426.08\n",
      "3    2022-04-24 00:00:00  39441.61  39450.13\n",
      "4    2022-04-23 00:00:00  39709.19  39441.60\n",
      "..                   ...       ...       ...\n",
      "198  2021-10-11 00:00:00  54659.01  57471.35\n",
      "199  2021-10-10 00:00:00  54949.72  54659.00\n",
      "200  2021-10-09 00:00:00  53955.67  54949.72\n",
      "201  2021-10-08 00:00:00  53785.22  53951.43\n",
      "202  2021-10-07 00:00:00  55315.00  53785.22\n",
      "\n",
      "[203 rows x 3 columns]\n",
      "                   date      open     close\n",
      "0   2022-04-27 00:00:00  38112.64  38172.34\n",
      "1   2022-04-26 00:00:00  40426.08  38112.65\n",
      "2   2022-04-25 00:00:00  39450.12  40426.08\n",
      "3   2022-04-24 00:00:00  39441.61  39450.13\n",
      "4   2022-04-23 00:00:00  39709.19  39441.60\n",
      "5   2022-04-22 00:00:00  40480.01  39709.18\n",
      "6   2022-04-21 00:00:00  41358.19  40480.01\n",
      "7   2022-04-20 00:00:00  41493.19  41358.19\n",
      "8   2022-04-19 00:00:00  40801.13  41493.18\n",
      "9   2022-04-18 00:00:00  39678.11  40801.13\n",
      "10  2022-04-17 00:00:00  40378.70  39678.12\n",
      "11  2022-04-16 00:00:00  40551.90  40378.71\n",
      "12  2022-04-15 00:00:00  39942.37  40551.90\n",
      "13  2022-04-14 00:00:00  41147.78  39942.38\n",
      "14  2022-04-13 00:00:00  40074.95  41147.79\n",
      "15  2022-04-12 00:00:00  39530.45  40074.94\n",
      "16  2022-04-11 00:00:00  42158.85  39530.45\n",
      "17  2022-04-10 00:00:00  42753.96  42158.85\n",
      "18  2022-04-09 00:00:00  42252.02  42753.97\n",
      "19  2022-04-08 00:00:00  43444.20  42252.01\n",
      "20  2022-04-07 00:00:00  43170.47  43444.19\n",
      "21  2022-04-06 00:00:00  45497.54  43170.47\n",
      "22  2022-04-05 00:00:00  46580.50  45497.55\n",
      "23  2022-04-04 00:00:00  46407.36  46580.51\n",
      "24  2022-04-03 00:00:00  45810.99  46407.35\n",
      "25  2022-04-02 00:00:00  46283.49  45811.00\n",
      "26  2022-04-01 00:00:00  45510.35  46283.49\n",
      "27  2022-03-31 00:00:00  47067.99  45510.34\n",
      "28  2022-03-30 00:00:00  47434.79  47067.99\n",
      "29  2022-03-29 00:00:00  47122.21  47434.80\n",
      "30  2022-03-28 00:00:00  46827.76  47122.21\n",
      "31  2022-03-27 00:00:00  44511.27  46827.76\n",
      "32  2022-03-26 00:00:00  44313.16  44511.27\n",
      "33  2022-03-25 00:00:00  43991.46  44313.16\n",
      "34  2022-03-24 00:00:00  42882.76  43991.46\n",
      "35  2022-03-23 00:00:00  42364.13  42882.76\n",
      "36  2022-03-22 00:00:00  41002.26  42364.13\n",
      "37  2022-03-21 00:00:00  41262.11  41002.25\n",
      "38  2022-03-20 00:00:00  42201.13  41262.11\n",
      "39  2022-03-19 00:00:00  41757.51  42201.13\n",
      "40  2022-03-18 00:00:00  40917.89  41757.51\n",
      "41  2022-03-17 00:00:00  41114.01  40917.90\n",
      "42  2022-03-16 00:00:00  39280.33  41114.00\n",
      "43  2022-03-15 00:00:00  39671.37  39280.33\n",
      "44  2022-03-14 00:00:00  37777.35  39671.37\n",
      "45  2022-03-13 00:00:00  38807.35  37777.34\n",
      "46  2022-03-12 00:00:00  38729.57  38807.36\n",
      "47  2022-03-11 00:00:00  39422.01  38729.57\n",
      "48  2022-03-10 00:00:00  41941.70  39422.00\n",
      "49  2022-03-09 00:00:00  38730.63  41941.71\n",
      "50  2022-03-08 00:00:00  37988.01  38730.63\n",
      "51  2022-03-07 00:00:00  38420.80  37988.00\n",
      "52  2022-03-06 00:00:00  39397.97  38420.81\n",
      "53  2022-03-05 00:00:00  39148.65  39397.96\n",
      "54  2022-03-04 00:00:00  42454.00  39148.66\n",
      "55  2022-03-03 00:00:00  43892.99  42454.00\n",
      "56  2022-03-02 00:00:00  44421.20  43892.98\n",
      "57  2022-03-01 00:00:00  43160.00  44421.20\n",
      "58  2022-02-28 00:00:00  37699.08  43160.00\n",
      "59  2022-02-27 00:00:00  39116.73  37699.07\n"
     ]
    }
   ],
   "source": [
    "rows_count=len(btc.index)\n",
    "#Conventional 70-30 rule for training and validation data set\"\"\"\n",
    "train_rows=int(0.7*rows_count)\n",
    "test_rows=int(0.3*rows_count)\n",
    "data= btc.tail(rows_count) \n",
    "#data_test=btc.head(test_rows) # Validate the data model with 30% of the data\n",
    "\n",
    "print(data)\n",
    "\n",
    "print(data_test)"
   ]
  },
  {
   "cell_type": "code",
   "execution_count": 174,
   "id": "95bfe290",
   "metadata": {},
   "outputs": [
    {
     "name": "stdout",
     "output_type": "stream",
     "text": [
      "[[38172.34]\n",
      " [38112.65]\n",
      " [40426.08]\n",
      " [39450.13]\n",
      " [39441.6 ]\n",
      " [39709.18]\n",
      " [40480.01]\n",
      " [41358.19]\n",
      " [41493.18]\n",
      " [40801.13]\n",
      " [39678.12]\n",
      " [40378.71]\n",
      " [40551.9 ]\n",
      " [39942.38]\n",
      " [41147.79]\n",
      " [40074.94]\n",
      " [39530.45]\n",
      " [42158.85]\n",
      " [42753.97]\n",
      " [42252.01]\n",
      " [43444.19]\n",
      " [43170.47]\n",
      " [45497.55]\n",
      " [46580.51]\n",
      " [46407.35]\n",
      " [45811.  ]\n",
      " [46283.49]\n",
      " [45510.34]\n",
      " [47067.99]\n",
      " [47434.8 ]\n",
      " [47122.21]\n",
      " [46827.76]\n",
      " [44511.27]\n",
      " [44313.16]\n",
      " [43991.46]\n",
      " [42882.76]\n",
      " [42364.13]\n",
      " [41002.25]\n",
      " [41262.11]\n",
      " [42201.13]\n",
      " [41757.51]\n",
      " [40917.9 ]\n",
      " [41114.  ]\n",
      " [39280.33]\n",
      " [39671.37]\n",
      " [37777.34]\n",
      " [38807.36]\n",
      " [38729.57]\n",
      " [39422.  ]\n",
      " [41941.71]\n",
      " [38730.63]\n",
      " [37988.  ]\n",
      " [38420.81]\n",
      " [39397.96]\n",
      " [39148.66]\n",
      " [42454.  ]\n",
      " [43892.98]\n",
      " [44421.2 ]\n",
      " [43160.  ]\n",
      " [37699.07]\n",
      " [39116.72]\n",
      " [39219.17]\n",
      " [38327.21]\n",
      " [37250.01]\n",
      " [38230.33]\n",
      " [37008.16]\n",
      " [38386.89]\n",
      " [40079.17]\n",
      " [39974.44]\n",
      " [40515.7 ]\n",
      " [43873.56]\n",
      " [44544.86]\n",
      " [42535.94]\n",
      " [42053.66]\n",
      " [42217.87]\n",
      " [42373.73]\n",
      " [43495.44]\n",
      " [44372.72]\n",
      " [44042.99]\n",
      " [43839.99]\n",
      " [42380.87]\n",
      " [41382.59]\n",
      " [41574.25]\n",
      " [37311.61]\n",
      " [36896.36]\n",
      " [38694.59]\n",
      " [38466.9 ]\n",
      " [37881.76]\n",
      " [38166.84]\n",
      " [37716.56]\n",
      " [37160.1 ]\n",
      " [36809.34]\n",
      " [36958.32]\n",
      " [36660.35]\n",
      " [36244.55]\n",
      " [35071.42]\n",
      " [36445.31]\n",
      " [40680.91]\n",
      " [41660.01]\n",
      " [42352.12]\n",
      " [42201.62]\n",
      " [43071.66]\n",
      " [43084.29]\n",
      " [43059.96]\n",
      " [42560.11]\n",
      " [43902.66]\n",
      " [42729.29]\n",
      " [41822.49]\n",
      " [41864.62]\n",
      " [41679.74]\n",
      " [41566.48]\n",
      " [43082.31]\n",
      " [43451.13]\n",
      " [45832.01]\n",
      " [46446.1 ]\n",
      " [47286.18]\n",
      " [47722.65]\n",
      " [46216.93]\n",
      " [47120.87]\n",
      " [46464.66]\n",
      " [47543.74]\n",
      " [50701.44]\n",
      " [50775.49]\n",
      " [50399.66]\n",
      " [50820.  ]\n",
      " [50838.81]\n",
      " [48588.16]\n",
      " [48889.88]\n",
      " [46914.16]\n",
      " [46681.23]\n",
      " [46834.48]\n",
      " [46131.2 ]\n",
      " [47632.38]\n",
      " [48864.98]\n",
      " [48343.28]\n",
      " [46702.75]\n",
      " [50053.9 ]\n",
      " [49389.99]\n",
      " [47140.54]\n",
      " [47545.59]\n",
      " [50471.19]\n",
      " [50588.95]\n",
      " [50441.92]\n",
      " [49396.33]\n",
      " [49152.47]\n",
      " [53601.05]\n",
      " [56480.34]\n",
      " [57184.07]\n",
      " [56950.56]\n",
      " [57776.25]\n",
      " [57274.88]\n",
      " [54721.03]\n",
      " [53726.53]\n",
      " [58960.36]\n",
      " [57138.29]\n",
      " [57541.27]\n",
      " [56247.18]\n",
      " [58622.02]\n",
      " [59707.51]\n",
      " [58052.24]\n",
      " [56891.62]\n",
      " [60344.87]\n",
      " [60058.87]\n",
      " [63606.74]\n",
      " [65519.1 ]\n",
      " [64380.  ]\n",
      " [64122.23]\n",
      " [64774.26]\n",
      " [64882.43]\n",
      " [66947.66]\n",
      " [67525.83]\n",
      " [63273.59]\n",
      " [61470.61]\n",
      " [60937.12]\n",
      " [61395.01]\n",
      " [62896.48]\n",
      " [63219.99]\n",
      " [60911.11]\n",
      " [61299.8 ]\n",
      " [61859.19]\n",
      " [62253.71]\n",
      " [60575.89]\n",
      " [58413.44]\n",
      " [60328.81]\n",
      " [63078.78]\n",
      " [60852.22]\n",
      " [61286.75]\n",
      " [60688.22]\n",
      " [62193.15]\n",
      " [66001.41]\n",
      " [64280.59]\n",
      " [62009.84]\n",
      " [61528.33]\n",
      " [60875.57]\n",
      " [61672.42]\n",
      " [57347.94]\n",
      " [57367.  ]\n",
      " [55996.93]\n",
      " [57471.35]\n",
      " [54659.  ]\n",
      " [54949.72]\n",
      " [53951.43]\n",
      " [53785.22]]\n"
     ]
    }
   ],
   "source": [
    "btc_open_data=data.open.values.reshape(-1,1)\n",
    "btc_close_data=data.close.values.reshape(-1,1)\n",
    "btc_close_test_data=data_test.close.values.reshape(-1,1)\n",
    "print(btc_close_data)"
   ]
  },
  {
   "cell_type": "code",
   "execution_count": 166,
   "id": "56447ab8",
   "metadata": {},
   "outputs": [
    {
     "name": "stdout",
     "output_type": "stream",
     "text": [
      "[37881.76 38172.34 38112.65 40426.08 39450.13 39441.6  39709.18 40480.01\n",
      " 41358.19 41493.18 40801.13 39678.12 40378.71 40551.9  39942.38 41147.79\n",
      " 40074.94 39530.45 42158.85 42753.97 42252.01 43444.19 43170.47 45497.55\n",
      " 46580.51 46407.35 45811.   46283.49 45510.34 47067.99 47434.8  47122.21\n",
      " 46827.76 44511.27 44313.16 43991.46 42882.76 42364.13 41002.25 41262.11\n",
      " 42201.13 41757.51 40917.9  41114.   39280.33 39671.37 37777.34 38807.36\n",
      " 38729.57 39422.   41941.71 38730.63 37988.   38420.81 39397.96 39148.66\n",
      " 42454.   43892.98 44421.2  43160.  ]\n"
     ]
    }
   ],
   "source": [
    "#Decision Tree Regressor\n",
    "data_model=DecisionTreeRegressor(max_depth=100).fit(btc_open_data,btc_close_data)\n",
    "DTR_data_predict=data_model.predict(btc_close_test_data)\n",
    "print(DTR_data_predict)"
   ]
  },
  {
   "cell_type": "markdown",
   "id": "5c599e4b",
   "metadata": {},
   "source": [
    "# Technique 2 K-Nearest Neighbour Regression"
   ]
  },
  {
   "cell_type": "code",
   "execution_count": 167,
   "id": "1fff048e",
   "metadata": {},
   "outputs": [],
   "source": [
    "#KNeighborsRegressor\n",
    "from sklearn.neighbors import KNeighborsRegressor\n",
    "from sklearn.pipeline import make_pipeline\n",
    "from sklearn.preprocessing import StandardScaler # Scaling for the training data\n",
    "from sklearn.metrics import mean_squared_error, r2_score\n",
    "from math import sqrt\n",
    "from matplotlib import pyplot as plt\n",
    "import numpy as np"
   ]
  },
  {
   "cell_type": "markdown",
   "id": "7f50bde3",
   "metadata": {},
   "source": [
    " X= Training Data, Y= Target values"
   ]
  },
  {
   "cell_type": "code",
   "execution_count": 168,
   "id": "97ad6ece",
   "metadata": {},
   "outputs": [
    {
     "data": {
      "text/plain": [
       "Text(0, 0.5, 'Error')"
      ]
     },
     "execution_count": 168,
     "metadata": {},
     "output_type": "execute_result"
    },
    {
     "data": {
      "image/png": "[encoded data removed]",
      "text/plain": [
       "<Figure size 432x288 with 1 Axes>"
      ]
     },
     "metadata": {
      "needs_background": "light"
     },
     "output_type": "display_data"
    },
    {
     "data": {
      "image/png": "[encoded data removed]",
      "text/plain": [
       "<Figure size 432x288 with 2 Axes>"
      ]
     },
     "metadata": {
      "needs_background": "light"
     },
     "output_type": "display_data"
    }
   ],
   "source": [
    "# Choosing the K-Nearest Neighbour based on loop\n",
    "mse_error=[]\n",
    "rmse_error=[]\n",
    "x_range=range(1,50)# K-Nearest neighbour (range of 1-50)\n",
    "for k in x_range:\n",
    "    KNN_model = KNeighborsRegressor(n_neighbors=k).fit(btc_open_data,btc_close_data)\n",
    "    closeData_predict=KNN_model.predict(btc_open_data)\n",
    "    mse_error.append(mean_squared_error(btc_close_data,closeData_predict))\n",
    "    rmse_error.append(sqrt(mean_squared_error(btc_close_data,closeData_predict)))\n",
    "plt.title(\"Relationship between MSE and Nearest Neighbours\")\n",
    "plt.plot(x_range,mse_error, label='MSE')\n",
    "figure, axis =plt.subplots(2)  # Minimum is two but we need one. \n",
    "axis[0].plot(x_range,rmse_error)\n",
    "axis[0].set_title(\"RMSE  versus Nearest Neighbours\")\n",
    "axis[1].plot(x_range,rmse_error)\n",
    "axis[0].set_title(\"RMSE  versus Nearest Neighbours\") # The other is redundant\n",
    "plt.xlabel(\"K-Nearest Neighbours\")\n",
    "plt.ylabel(\"Error\")"
   ]
  },
  {
   "cell_type": "markdown",
   "id": "ffd467cd",
   "metadata": {},
   "source": [
    "The graph above helps in determining the nearest neighbours below. \n",
    "#So by observing the appropriate K-Nearest Neighbour the target price predictions can proceed normally"
   ]
  },
  {
   "cell_type": "code",
   "execution_count": 169,
   "id": "de007ff2",
   "metadata": {},
   "outputs": [
    {
     "name": "stdout",
     "output_type": "stream",
     "text": [
      "[[38008.685 ]\n",
      " [39368.5975]\n",
      " [39256.6475]\n",
      " [39256.6475]\n",
      " [39899.5   ]\n",
      " [39543.745 ]\n",
      " [41305.33  ]\n",
      " [41700.3475]\n",
      " [40515.0325]\n",
      " [39899.5   ]\n",
      " [39368.5975]\n",
      " [39543.745 ]\n",
      " [40041.4375]\n",
      " [41056.665 ]\n",
      " [40041.4375]\n",
      " [39670.18  ]\n",
      " [41299.585 ]\n",
      " [43278.2325]\n",
      " [42105.465 ]\n",
      " [42788.06  ]\n",
      " [43125.8825]\n",
      " [44828.11  ]\n",
      " [46968.965 ]\n",
      " [46336.0975]\n",
      " [44828.11  ]\n",
      " [46737.16  ]\n",
      " [44828.11  ]\n",
      " [47138.015 ]\n",
      " [46779.8225]\n",
      " [47138.015 ]\n",
      " [47759.15  ]\n",
      " [44522.435 ]\n",
      " [44681.8625]\n",
      " [43424.9975]\n",
      " [43284.315 ]\n",
      " [42650.1575]\n",
      " [41245.48  ]\n",
      " [40951.3775]\n",
      " [41299.585 ]\n",
      " [41868.9875]\n",
      " [41633.18  ]\n",
      " [41056.665 ]\n",
      " [39512.3725]\n",
      " [39899.5   ]\n",
      " [39866.2775]\n",
      " [38855.6925]\n",
      " [38855.6925]\n",
      " [39256.6475]\n",
      " [41627.43  ]\n",
      " [38855.6925]\n",
      " [38312.9075]\n",
      " [38227.48  ]\n",
      " [39256.6475]\n",
      " [39331.9375]\n",
      " [42437.845 ]\n",
      " [42393.2   ]\n",
      " [44681.8625]\n",
      " [43125.8825]\n",
      " [39866.2775]\n",
      " [39331.9375]\n",
      " [39331.9375]\n",
      " [37866.335 ]\n",
      " [38962.0875]\n",
      " [38130.82  ]\n",
      " [37516.96  ]\n",
      " [38227.48  ]\n",
      " [40041.4375]\n",
      " [40041.4375]\n",
      " [39543.745 ]\n",
      " [42393.2   ]\n",
      " [44522.435 ]\n",
      " [42648.3675]\n",
      " [40687.625 ]\n",
      " [42105.465 ]\n",
      " [42650.1575]\n",
      " [42788.06  ]\n",
      " [44681.8625]\n",
      " [43424.9975]\n",
      " [42393.2   ]\n",
      " [42650.1575]\n",
      " [41305.33  ]\n",
      " [41275.3575]\n",
      " [38962.0875]\n",
      " [37377.845 ]\n",
      " [38855.6925]\n",
      " [38227.48  ]\n",
      " [38758.935 ]\n",
      " [38130.82  ]\n",
      " [39866.2775]\n",
      " [38962.0875]\n",
      " [37059.8425]\n",
      " [37377.845 ]\n",
      " [36625.3625]\n",
      " [36462.5475]\n",
      " [36233.66  ]\n",
      " [36462.5475]\n",
      " [39572.91  ]\n",
      " [41401.965 ]\n",
      " [42650.1575]\n",
      " [41299.585 ]\n",
      " [42481.0125]\n",
      " [42481.0125]\n",
      " [42481.0125]\n",
      " [42664.035 ]\n",
      " [42393.2   ]\n",
      " [43278.2325]\n",
      " [41543.7275]\n",
      " [41543.7275]\n",
      " [41532.3125]\n",
      " [41275.3575]\n",
      " [42481.0125]\n",
      " [42788.06  ]\n",
      " [45744.1125]\n",
      " [46257.735 ]\n",
      " [47584.72  ]\n",
      " [46755.645 ]\n",
      " [46737.16  ]\n",
      " [47138.015 ]\n",
      " [46257.735 ]\n",
      " [46701.0975]\n",
      " [49779.0075]\n",
      " [49866.21  ]\n",
      " [49845.305 ]\n",
      " [49866.21  ]\n",
      " [49866.21  ]\n",
      " [48981.0825]\n",
      " [49113.92  ]\n",
      " [47050.915 ]\n",
      " [46969.3   ]\n",
      " [47759.15  ]\n",
      " [46737.16  ]\n",
      " [46755.645 ]\n",
      " [49113.92  ]\n",
      " [48981.0825]\n",
      " [46969.3   ]\n",
      " [48903.195 ]\n",
      " [49620.0775]\n",
      " [47138.015 ]\n",
      " [46701.0975]\n",
      " [49845.305 ]\n",
      " [49037.3675]\n",
      " [49845.305 ]\n",
      " [49620.0775]\n",
      " [49620.0775]\n",
      " [53193.6625]\n",
      " [56594.6575]\n",
      " [58722.3425]\n",
      " [57669.2525]\n",
      " [57448.3225]\n",
      " [58319.2375]\n",
      " [55797.6125]\n",
      " [53193.6625]\n",
      " [57292.905 ]\n",
      " [57600.255 ]\n",
      " [58038.895 ]\n",
      " [56640.39  ]\n",
      " [57564.2775]\n",
      " [58567.9875]\n",
      " [58593.0625]\n",
      " [57669.2525]\n",
      " [59475.91  ]\n",
      " [58567.9875]\n",
      " [63715.295 ]\n",
      " [63674.095 ]\n",
      " [65005.685 ]\n",
      " [63989.845 ]\n",
      " [65104.25  ]\n",
      " [65104.25  ]\n",
      " [64407.495 ]\n",
      " [64407.495 ]\n",
      " [62702.4975]\n",
      " [61782.915 ]\n",
      " [62324.4275]\n",
      " [61493.51  ]\n",
      " [63036.5325]\n",
      " [63036.5325]\n",
      " [62324.4275]\n",
      " [61493.51  ]\n",
      " [62116.45  ]\n",
      " [62031.95  ]\n",
      " [59711.38  ]\n",
      " [57564.2775]\n",
      " [59475.91  ]\n",
      " [63036.5325]\n",
      " [62324.4275]\n",
      " [61493.51  ]\n",
      " [62036.8925]\n",
      " [62031.95  ]\n",
      " [63864.145 ]\n",
      " [65005.685 ]\n",
      " [62031.95  ]\n",
      " [61774.03  ]\n",
      " [62324.4275]\n",
      " [61864.7   ]\n",
      " [58198.385 ]\n",
      " [58198.385 ]\n",
      " [55573.635 ]\n",
      " [58038.895 ]\n",
      " [55797.6125]\n",
      " [55797.6125]\n",
      " [53193.6625]\n",
      " [53193.6625]\n",
      " [55797.6125]]\n"
     ]
    }
   ],
   "source": [
    "KNN_model = KNeighborsRegressor(n_neighbors=4).fit(btc_open_data,btc_close_data) # Fit(X,Y)\n",
    "closeData_KNN_predict = KNN_model.predict(btc_open_data)  # Y_predict=Predict (X)\n",
    "print(closeData_KNN_predict)"
   ]
  },
  {
   "cell_type": "code",
   "execution_count": 170,
   "id": "1197c57d",
   "metadata": {},
   "outputs": [
    {
     "data": {
      "text/plain": [
       "<matplotlib.collections.PathCollection at 0x25ddae217c0>"
      ]
     },
     "execution_count": 170,
     "metadata": {},
     "output_type": "execute_result"
    },
    {
     "data": {
      "image/png": "[encoded data removed]",
      "text/plain": [
       "<Figure size 432x288 with 1 Axes>"
      ]
     },
     "metadata": {
      "needs_background": "light"
     },
     "output_type": "display_data"
    }
   ],
   "source": [
    "plt.title(\"Historical data\")\n",
    "plt.scatter(btc_open_data,btc_close_data, label='Historical data')"
   ]
  },
  {
   "cell_type": "code",
   "execution_count": 171,
   "id": "1cc0c939",
   "metadata": {},
   "outputs": [
    {
     "data": {
      "text/plain": [
       "<matplotlib.collections.PathCollection at 0x25ddae816d0>"
      ]
     },
     "execution_count": 171,
     "metadata": {},
     "output_type": "execute_result"
    },
    {
     "data": {
      "image/png": "[encoded data removed]",
      "text/plain": [
       "<Figure size 432x288 with 1 Axes>"
      ]
     },
     "metadata": {
      "needs_background": "light"
     },
     "output_type": "display_data"
    }
   ],
   "source": [
    "plt.title(\"Predicted data\")\n",
    "plt.scatter(btc_open_data,closeData_KNN_predict, label='Historical data')"
   ]
  },
  {
   "cell_type": "code",
   "execution_count": 172,
   "id": "16e90e6c",
   "metadata": {},
   "outputs": [
    {
     "name": "stdout",
     "output_type": "stream",
     "text": [
      "Mean Squared Error:1873717.7947623155\n",
      "RMSE:1368.838118537877\n",
      "R2_Score:0.9751784609675753\n"
     ]
    }
   ],
   "source": [
    "MSE=mean_squared_error(btc_close_data,closeData_KNN_predict)\n",
    "print(\"Mean Squared Error:\" +str(MSE))\n",
    "RMSE=sqrt(mean_squared_error(btc_close_data,closeData_KNN_predict))\n",
    "print(\"RMSE:\" +str(RMSE))\n",
    "R2_Score=r2_score(btc_close_data,closeData_KNN_predict)\n",
    "print(\"R2_Score:\" +str(R2_Score))"
   ]
  },
  {
   "cell_type": "code",
   "execution_count": 176,
   "id": "888eeac6",
   "metadata": {},
   "outputs": [
    {
     "name": "stdout",
     "output_type": "stream",
     "text": [
      "The original Target_Price was :[38172.34]\n",
      "The predicted Target_Price :[38008.685]\n"
     ]
    }
   ],
   "source": [
    "# Target Price\n",
    "Target_Price_data=btc_close_data[0]\n",
    "Target_Price_predicted=closeData_KNN_predict[0]\n",
    "print(\"The original Target_Price was :\"+str(Target_Price_data))\n",
    "print(\"The predicted Target_Price :\"+str(Target_Price_predicted))"
   ]
  },
  {
   "cell_type": "code",
   "execution_count": null,
   "id": "dff873bf",
   "metadata": {},
   "outputs": [],
   "source": []
  }
 ],
 "metadata": {
  "kernelspec": {
   "display_name": "Python 3 (ipykernel)",
   "language": "python",
   "name": "python3"
  },
  "language_info": {
   "codemirror_mode": {
    "name": "ipython",
    "version": 3
   },
   "file_extension": ".py",
   "mimetype": "text/x-python",
   "name": "python",
   "nbconvert_exporter": "python",
   "pygments_lexer": "ipython3",
   "version": "3.9.7"
  }
 },
 "nbformat": 4,
 "nbformat_minor": 5
}
