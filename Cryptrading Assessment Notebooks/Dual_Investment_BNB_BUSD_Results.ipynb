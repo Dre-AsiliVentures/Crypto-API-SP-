{
 "cells": [
  {
   "cell_type": "code",
   "execution_count": 37,
   "id": "e48282f2",
   "metadata": {},
   "outputs": [],
   "source": [
    "# Author: GreHiDeL"
   ]
  },
  {
   "cell_type": "code",
   "execution_count": 39,
   "id": "2819eb37",
   "metadata": {},
   "outputs": [],
   "source": [
    "import os\n",
    "import pandas as pd\n",
    "from binance import Client\n",
    "api_key = os.environ.get('BINANCE_TEST_API')\n",
    "api_secret = os.environ.get('BINANCE_TEST_SECRET')\n",
    "client=client = Client(api_key, api_secret)"
   ]
  },
  {
   "cell_type": "code",
   "execution_count": 40,
   "id": "f439a349",
   "metadata": {
    "scrolled": false
   },
   "outputs": [
    {
     "data": {
      "text/html": [
       "<div>\n",
       "<style scoped>\n",
       "    .dataframe tbody tr th:only-of-type {\n",
       "        vertical-align: middle;\n",
       "    }\n",
       "\n",
       "    .dataframe tbody tr th {\n",
       "        vertical-align: top;\n",
       "    }\n",
       "\n",
       "    .dataframe thead th {\n",
       "        text-align: right;\n",
       "    }\n",
       "</style>\n",
       "<table border=\"1\" class=\"dataframe\">\n",
       "  <thead>\n",
       "    <tr style=\"text-align: right;\">\n",
       "      <th></th>\n",
       "      <th>Open</th>\n",
       "      <th>High</th>\n",
       "      <th>Low</th>\n",
       "      <th>Close</th>\n",
       "      <th>Volume</th>\n",
       "    </tr>\n",
       "    <tr>\n",
       "      <th>Time</th>\n",
       "      <th></th>\n",
       "      <th></th>\n",
       "      <th></th>\n",
       "      <th></th>\n",
       "      <th></th>\n",
       "    </tr>\n",
       "  </thead>\n",
       "  <tbody>\n",
       "    <tr>\n",
       "      <th>2022-04-29</th>\n",
       "      <td>407.2</td>\n",
       "      <td>410.7</td>\n",
       "      <td>389.7</td>\n",
       "      <td>392.8</td>\n",
       "      <td>233647.232</td>\n",
       "    </tr>\n",
       "    <tr>\n",
       "      <th>2022-04-30</th>\n",
       "      <td>392.9</td>\n",
       "      <td>399.8</td>\n",
       "      <td>376.4</td>\n",
       "      <td>377.2</td>\n",
       "      <td>154503.970</td>\n",
       "    </tr>\n",
       "    <tr>\n",
       "      <th>2022-05-01</th>\n",
       "      <td>377.2</td>\n",
       "      <td>391.3</td>\n",
       "      <td>375.6</td>\n",
       "      <td>389.9</td>\n",
       "      <td>165113.527</td>\n",
       "    </tr>\n",
       "    <tr>\n",
       "      <th>2022-05-02</th>\n",
       "      <td>390.0</td>\n",
       "      <td>392.6</td>\n",
       "      <td>386.9</td>\n",
       "      <td>389.4</td>\n",
       "      <td>37560.666</td>\n",
       "    </tr>\n",
       "  </tbody>\n",
       "</table>\n",
       "</div>"
      ],
      "text/plain": [
       "             Open   High    Low  Close      Volume\n",
       "Time                                              \n",
       "2022-04-29  407.2  410.7  389.7  392.8  233647.232\n",
       "2022-04-30  392.9  399.8  376.4  377.2  154503.970\n",
       "2022-05-01  377.2  391.3  375.6  389.9  165113.527\n",
       "2022-05-02  390.0  392.6  386.9  389.4   37560.666"
      ]
     },
     "execution_count": 40,
     "metadata": {},
     "output_type": "execute_result"
    }
   ],
   "source": [
    "data=client.get_historical_klines(\"BNBBUSD\", Client.KLINE_INTERVAL_1DAY, \"4 day ago UTC+3\")  #https://python-binance.readthedocs.io/en/latest/market_data.html?highlight=kline%20limit#id6\n",
    "frame=pd.DataFrame(data)\n",
    "frame=frame.iloc[:,:6] # All rows and column upto 6\n",
    "# Naming the columns\n",
    "frame.columns=['Time','Open','High','Low','Close','Volume']\n",
    "# Name the rows\n",
    "frame=frame.set_index('Time') # Note this is in ms\n",
    "# Convert this Time to readable form since this is time from 1970s\n",
    "frame.index=pd.to_datetime(frame.index,unit='ms')\n",
    "frame=frame.astype(float) # Convert values from strings to float\n",
    "frame"
   ]
  },
  {
   "cell_type": "markdown",
   "id": "2bada4a2",
   "metadata": {},
   "source": [
    "Conclusion: On 29th April 202 the Price closed at 392.8 while the settlement price was 4**"
   ]
  }
 ],
 "metadata": {
  "kernelspec": {
   "display_name": "Python 3 (ipykernel)",
   "language": "python",
   "name": "python3"
  },
  "language_info": {
   "codemirror_mode": {
    "name": "ipython",
    "version": 3
   },
   "file_extension": ".py",
   "mimetype": "text/x-python",
   "name": "python",
   "nbconvert_exporter": "python",
   "pygments_lexer": "ipython3",
   "version": "3.9.7"
  }
 },
 "nbformat": 4,
 "nbformat_minor": 5
}
