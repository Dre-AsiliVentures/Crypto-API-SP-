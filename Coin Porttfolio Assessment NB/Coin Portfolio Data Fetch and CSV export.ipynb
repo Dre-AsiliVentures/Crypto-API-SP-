{
 "cells": [
  {
   "cell_type": "code",
   "execution_count": 32,
   "id": "e48282f2",
   "metadata": {},
   "outputs": [],
   "source": [
    "# Author: GreHiDeL"
   ]
  },
  {
   "cell_type": "code",
   "execution_count": 36,
   "id": "2819eb37",
   "metadata": {},
   "outputs": [
    {
     "name": "stdout",
     "output_type": "stream",
     "text": [
      "The client info  IKO setup!!\n"
     ]
    }
   ],
   "source": [
    "import os\n",
    "import pandas as pd\n",
    "from binance import Client\n",
    "from binance.exceptions import BinanceAPIException\n",
    "from datetime import date\n",
    "api_key = os.environ.get('BINANCE_TEST_API')\n",
    "api_secret = os.environ.get('BINANCE_TEST_SECRET')\n",
    "client=client = Client(api_key, api_secret)\n",
    "print(\"The client info  IKO setup!!\")\n"
   ]
  },
  {
   "attachments": {},
   "cell_type": "markdown",
   "id": "c5f9270a",
   "metadata": {},
   "source": [
    "Coin Balances"
   ]
  },
  {
   "cell_type": "code",
   "execution_count": 38,
   "id": "04b96a6b",
   "metadata": {},
   "outputs": [],
   "source": [
    "# try:\n",
    "#     accountInfo=client.get_account()\n",
    "# except BinanceAPIException as e:\n",
    "#     print(e)\n",
    "# balances=accountInfo['balances']\n",
    "# for balance in balances:\n",
    "#     if float(balance['free']) or float(balance['locked']):\n",
    "#         coin=balance['asset']\n",
    "#         free=balance['free']\n",
    "#         locked=balance['locked']\n",
    "#         print(f'{coin}:Free: {free}, Locked:{locked}')"
   ]
  },
  {
   "cell_type": "code",
   "execution_count": 3,
   "id": "b8112a71",
   "metadata": {},
   "outputs": [
    {
     "name": "stdout",
     "output_type": "stream",
     "text": [
      "The latest data analysis will is upto today the 2023-02-25\n",
      "The coins under focus are ['ENJ', 'GAL', 'APE', 'CITY']:\n"
     ]
    }
   ],
   "source": [
    "today=str(date.today())\n",
    "print(\"The latest data analysis will is upto today the {}\".format(today))\n",
    "coins=['ENJ','GAL','APE','CITY']\n",
    "print(\"The coins under focus are {}:\".format(coins))"
   ]
  },
  {
   "cell_type": "code",
   "execution_count": 30,
   "id": "0aa35219",
   "metadata": {},
   "outputs": [],
   "source": [
    "import pandas as pd\n",
    "# coinDF={}\n",
    "# coinData=[]\n",
    "# coins=['ENJ','GAL','APE','CITY']\n",
    "\n",
    "def coinFrameData(coin):\n",
    "    coinRawData=client.get_historical_klines(coin+\"BUSD\", Client.KLINE_INTERVAL_15MINUTE, \" 1 day ago UTC+3\")  #https://python-binance.readthedocs.io/en/latest/market_data.html?highlight=kline%20limit#id6\n",
    "    #coinRawData=client.get_historical_klines(coin+\"BUSD\", Client.KLINE_INTERVAL_15MINUTE, \"4 day ago UTC+3\")  #https://python-binance.readthedocs.io/en/latest/market_data.html?highlight=kline%20limit#id6\n",
    "    coinDFrame=pd.DataFrame(coinRawData)\n",
    "    coinDFrame=coinDFrame.iloc[:,:6] # All rows and column upto 6\n",
    "    coinDFrame.columns=['Time','Open','High','Low','Close','Volume']# Naming the columns\n",
    "    # Name the rows\n",
    "    coinDFrame=coinDFrame.set_index('Time') # Note this is in ms\n",
    "    # Convert this Time to readable form since this is time from 1970s\n",
    "    coinDFrame.index=pd.to_datetime(coinDFrame.index,unit='ms')\n",
    "    coinDFrame=coinDFrame.astype(float) # Convert values from strings to float\n",
    "    coinDFrame['Returns']=coinDFrame['Close'].pct_change() # Daily Returns\n",
    "\n",
    "    startPrice=coinDFrame.iloc[0]['Close'] # Asset's Beginning Price\n",
    "    endPrice=coinDFrame.iloc[-1]['Close'] # Asset's Closing Price, what ended.\n",
    "    returns= coinDFrame['Returns'].sum()\n",
    "\n",
    "    profitabilityIndex=((endPrice-startPrice)/startPrice)*100\n",
    "    coinDFrame['Profitability']=profitabilityIndex\n",
    "    annualized_profitability=(1+returns)**(365/30)-1\n",
    "    #coinDFrame['365AnnualProfitIndex']=profitabilityIndex\n",
    "    #coinDict=list(dict(coinDFrame))\n",
    "    #csv_file=coinDFrame.to_csv(coin+'DATA'+today+'.csv',index=False) - requires MOD before use.\n",
    "    #csv_file=coinDFrame.to_csv(coin+'DATA'+'.csv',index=False)\n",
    "    csv_file=coinDFrame.to_csv(coin+'DATA'+'.csv',index=True)\n",
    "\n",
    "def profitability(coin,data):\n",
    "    ohlcvDF=pd.read_csv(data)\n",
    "\n",
    "\n"
   ]
  },
  {
   "cell_type": "code",
   "execution_count": 31,
   "id": "3c64071c",
   "metadata": {},
   "outputs": [],
   "source": [
    "for coin in coins:\n",
    "    coinFrameData(coin)"
   ]
  },
  {
   "cell_type": "code",
   "execution_count": null,
   "id": "20410ac7",
   "metadata": {},
   "outputs": [],
   "source": [
    "pd.read_csv(APEDATA2023-02-18.csv)"
   ]
  },
  {
   "cell_type": "code",
   "execution_count": null,
   "id": "2fff62a1",
   "metadata": {},
   "outputs": [],
   "source": []
  }
 ],
 "metadata": {
  "kernelspec": {
   "display_name": "Python 3.9.7 ('base')",
   "language": "python",
   "name": "python3"
  },
  "language_info": {
   "codemirror_mode": {
    "name": "ipython",
    "version": 3
   },
   "file_extension": ".py",
   "mimetype": "text/x-python",
   "name": "python",
   "nbconvert_exporter": "python",
   "pygments_lexer": "ipython3",
   "version": "3.9.7"
  },
  "vscode": {
   "interpreter": {
    "hash": "b0e6aa0c7315559b465a56df7745b95956df913857210652a8e0ee148ea9e296"
   }
  }
 },
 "nbformat": 4,
 "nbformat_minor": 5
}
