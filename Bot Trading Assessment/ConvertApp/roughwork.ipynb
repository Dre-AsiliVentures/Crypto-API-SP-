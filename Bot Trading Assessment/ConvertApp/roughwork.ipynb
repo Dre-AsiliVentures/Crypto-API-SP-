{
 "cells": [
  {
   "cell_type": "code",
   "execution_count": 43,
   "metadata": {},
   "outputs": [
    {
     "data": {
      "text/plain": [
       "'Example usage:\\na=Binance_DataFetch()\\ndata=a.client_dataFetch(\"BNBBUSD\", Client.KLINE_INTERVAL_1DAY, \"2000 day ago UTC+3\")\\n# #https://python-binance.readthedocs.io/en/latest/market_data.html?highlight=kline%20limit#id6\\n'"
      ]
     },
     "execution_count": 43,
     "metadata": {},
     "output_type": "execute_result"
    }
   ],
   "source": [
    "import pandas as pd\n",
    "import numpy as np\n",
    "from binance import Client\n",
    "import os\n",
    "class Binance_DataFetch:\n",
    "    def __init__(self,ticker_symbol,period_interval,lookback_period):\n",
    "        self.ticker_symbol=ticker_symbol\n",
    "        self.period_interval=period_interval\n",
    "        self.lookback_period=lookback_period\n",
    "        self.client=None\n",
    "        self.frame=None\n",
    "        print(\"Done importing all libraries\")\n",
    "    def client_setup(self):\n",
    "        api_key = os.environ.get('BINANCE_TEST_API')\n",
    "        api_secret = os.environ.get('BINANCE_TEST_SECRET')\n",
    "        self.client=Client(api_key, api_secret)\n",
    "        return self.client\n",
    "    def client_dataFetch(self):\n",
    "        client=self.client_setup()\n",
    "        if client!=None:\n",
    "            print(\"Now fetching the client data\")\n",
    "            data=client.get_historical_klines(self.ticker_symbol,self.period_interval,self.lookback_period)\n",
    "            self.frame=pd.DataFrame(data)\n",
    "            self.frame=self.frame.iloc[:,:6] # All rows and column upto 6\n",
    "            # Namig the columns\n",
    "            self.frame.columns=['Time','Open','High','Low','Close','Volume']\n",
    "            # Name the rows\n",
    "            self.frame=self.frame.set_index('Time') # Note this is in ms\n",
    "            # Convert this Time to readable form since this is time from 1970s\n",
    "            self.frame.index=pd.to_datetime(self.frame.index,unit='ms')\n",
    "            self.frame=self.frame.astype(float) # Convert values from strings to floatn\n",
    "        else:\n",
    "            print(\"There was an error defining the account\")\n",
    "        return self.frame\n",
    "\n",
    "\"\"\"Example usage:\n",
    "a=Binance_DataFetch()\n",
    "data=a.client_dataFetch(\"BNBBUSD\", Client.KLINE_INTERVAL_1DAY, \"2000 day ago UTC+3\")\n",
    "# #https://python-binance.readthedocs.io/en/latest/market_data.html?highlight=kline%20limit#id6\n",
    "\"\"\""
   ]
  },
  {
   "cell_type": "code",
   "execution_count": 49,
   "metadata": {},
   "outputs": [],
   "source": [
    "class Trade:\n",
    "    def __init__(self,tradesymbol1,tradesymbol2,tickerSymbol,targetProfit):\n",
    "        self.tradesymbol1=tradesymbol1\n",
    "        self.tradesymbol2=tradesymbol2\n",
    "        self.targetProfit=targetProfit\n",
    "        self.tickerSymbol=tickerSymbol #e.g., ETHUSDT\n",
    "        self.tickerSymbol=None\n",
    "        self.period_interval=Client.KLINE_INTERVAL_1DAY\n",
    "        self.period=Client.KLINE_INTERVAL_1DAY\n",
    "        self.lookback=\"2000 day ago UTC+3\"\n",
    "        #fetch=Binance_DataFetch(ticker_symbol=self.tickerSymbol,period_interval=self.period,lookback_period=self.lookback)\n",
    "        #fetch=Binance_DataFetch(\"ETHUSDT\", Client.KLINE_INTERVAL_1DAY, \"2000 day ago UTC+3\")\n",
    "        fetch=Binance_DataFetch(\"ETHUSDT\", Client.KLINE_INTERVAL_1DAY, \"2000 day ago\")\n",
    "        self.data=fetch.client_dataFetch()\n",
    "        self.client=Binance_DataFetch().client_setup()\n",
    "    def run(self):\n",
    "        self.client.get_all_orders(symbol=self.tickerSymbol, limit=1)"
   ]
  },
  {
   "cell_type": "code",
   "execution_count": 51,
   "metadata": {},
   "outputs": [
    {
     "name": "stdout",
     "output_type": "stream",
     "text": [
      "Done importing all libraries\n",
      "Now fetching the client data\n"
     ]
    },
    {
     "ename": "error",
     "evalue": "bad escape \\d at position 7",
     "output_type": "error",
     "traceback": [
      "\u001b[1;31m---------------------------------------------------------------------------\u001b[0m",
      "\u001b[1;31merror\u001b[0m                                     Traceback (most recent call last)",
      "\u001b[1;32me:\\Intellectual Content\\GMT\\Gig-Econ\\Strategic Programmer\\Crypto API\\Crypto-API-SP-\\Bot Trading Assessment\\ConvertApp\\roughwork.ipynb Cell 3\u001b[0m in \u001b[0;36m<cell line: 1>\u001b[1;34m()\u001b[0m\n\u001b[1;32m----> <a href='vscode-notebook-cell:/e%3A/Intellectual%20Content/GMT/Gig-Econ/Strategic%20Programmer/Crypto%20API/Crypto-API-SP-/Bot%20Trading%20Assessment/ConvertApp/roughwork.ipynb#W1sZmlsZQ%3D%3D?line=0'>1</a>\u001b[0m Trade(tradesymbol1\u001b[39m=\u001b[39;49m\u001b[39m'\u001b[39;49m\u001b[39mETH\u001b[39;49m\u001b[39m'\u001b[39;49m,tradesymbol2\u001b[39m=\u001b[39;49m\u001b[39m'\u001b[39;49m\u001b[39mUSDT\u001b[39;49m\u001b[39m'\u001b[39;49m,tickerSymbol\u001b[39m=\u001b[39;49m\u001b[39m'\u001b[39;49m\u001b[39mETHUSDT\u001b[39;49m\u001b[39m'\u001b[39;49m,targetProfit\u001b[39m=\u001b[39;49m\u001b[39m15\u001b[39;49m)\n",
      "\u001b[1;32me:\\Intellectual Content\\GMT\\Gig-Econ\\Strategic Programmer\\Crypto API\\Crypto-API-SP-\\Bot Trading Assessment\\ConvertApp\\roughwork.ipynb Cell 3\u001b[0m in \u001b[0;36mTrade.__init__\u001b[1;34m(self, tradesymbol1, tradesymbol2, tickerSymbol, targetProfit)\u001b[0m\n\u001b[0;32m     <a href='vscode-notebook-cell:/e%3A/Intellectual%20Content/GMT/Gig-Econ/Strategic%20Programmer/Crypto%20API/Crypto-API-SP-/Bot%20Trading%20Assessment/ConvertApp/roughwork.ipynb#W1sZmlsZQ%3D%3D?line=10'>11</a>\u001b[0m \u001b[39m#fetch=Binance_DataFetch(ticker_symbol=self.tickerSymbol,period_interval=self.period,lookback_period=self.lookback)\u001b[39;00m\n\u001b[0;32m     <a href='vscode-notebook-cell:/e%3A/Intellectual%20Content/GMT/Gig-Econ/Strategic%20Programmer/Crypto%20API/Crypto-API-SP-/Bot%20Trading%20Assessment/ConvertApp/roughwork.ipynb#W1sZmlsZQ%3D%3D?line=11'>12</a>\u001b[0m \u001b[39m#fetch=Binance_DataFetch(\"ETHUSDT\", Client.KLINE_INTERVAL_1DAY, \"2000 day ago UTC+3\")\u001b[39;00m\n\u001b[0;32m     <a href='vscode-notebook-cell:/e%3A/Intellectual%20Content/GMT/Gig-Econ/Strategic%20Programmer/Crypto%20API/Crypto-API-SP-/Bot%20Trading%20Assessment/ConvertApp/roughwork.ipynb#W1sZmlsZQ%3D%3D?line=12'>13</a>\u001b[0m fetch\u001b[39m=\u001b[39mBinance_DataFetch(\u001b[39m\"\u001b[39m\u001b[39mETHUSDT\u001b[39m\u001b[39m\"\u001b[39m, Client\u001b[39m.\u001b[39mKLINE_INTERVAL_1DAY, \u001b[39m\"\u001b[39m\u001b[39m2000 day ago\u001b[39m\u001b[39m\"\u001b[39m)\n\u001b[1;32m---> <a href='vscode-notebook-cell:/e%3A/Intellectual%20Content/GMT/Gig-Econ/Strategic%20Programmer/Crypto%20API/Crypto-API-SP-/Bot%20Trading%20Assessment/ConvertApp/roughwork.ipynb#W1sZmlsZQ%3D%3D?line=13'>14</a>\u001b[0m \u001b[39mself\u001b[39m\u001b[39m.\u001b[39mdata\u001b[39m=\u001b[39mfetch\u001b[39m.\u001b[39;49mclient_dataFetch()\n\u001b[0;32m     <a href='vscode-notebook-cell:/e%3A/Intellectual%20Content/GMT/Gig-Econ/Strategic%20Programmer/Crypto%20API/Crypto-API-SP-/Bot%20Trading%20Assessment/ConvertApp/roughwork.ipynb#W1sZmlsZQ%3D%3D?line=14'>15</a>\u001b[0m \u001b[39mself\u001b[39m\u001b[39m.\u001b[39mclient\u001b[39m=\u001b[39mBinance_DataFetch()\u001b[39m.\u001b[39mclient_setup()\n",
      "\u001b[1;32me:\\Intellectual Content\\GMT\\Gig-Econ\\Strategic Programmer\\Crypto API\\Crypto-API-SP-\\Bot Trading Assessment\\ConvertApp\\roughwork.ipynb Cell 3\u001b[0m in \u001b[0;36mBinance_DataFetch.client_dataFetch\u001b[1;34m(self)\u001b[0m\n\u001b[0;32m     <a href='vscode-notebook-cell:/e%3A/Intellectual%20Content/GMT/Gig-Econ/Strategic%20Programmer/Crypto%20API/Crypto-API-SP-/Bot%20Trading%20Assessment/ConvertApp/roughwork.ipynb#W1sZmlsZQ%3D%3D?line=19'>20</a>\u001b[0m \u001b[39mif\u001b[39;00m client\u001b[39m!=\u001b[39m\u001b[39mNone\u001b[39;00m:\n\u001b[0;32m     <a href='vscode-notebook-cell:/e%3A/Intellectual%20Content/GMT/Gig-Econ/Strategic%20Programmer/Crypto%20API/Crypto-API-SP-/Bot%20Trading%20Assessment/ConvertApp/roughwork.ipynb#W1sZmlsZQ%3D%3D?line=20'>21</a>\u001b[0m     \u001b[39mprint\u001b[39m(\u001b[39m\"\u001b[39m\u001b[39mNow fetching the client data\u001b[39m\u001b[39m\"\u001b[39m)\n\u001b[1;32m---> <a href='vscode-notebook-cell:/e%3A/Intellectual%20Content/GMT/Gig-Econ/Strategic%20Programmer/Crypto%20API/Crypto-API-SP-/Bot%20Trading%20Assessment/ConvertApp/roughwork.ipynb#W1sZmlsZQ%3D%3D?line=21'>22</a>\u001b[0m     data\u001b[39m=\u001b[39mclient\u001b[39m.\u001b[39;49mget_historical_klines(\u001b[39mself\u001b[39;49m\u001b[39m.\u001b[39;49mticker_symbol,\u001b[39mself\u001b[39;49m\u001b[39m.\u001b[39;49mperiod_interval,\u001b[39mself\u001b[39;49m\u001b[39m.\u001b[39;49mlookback_period)\n\u001b[0;32m     <a href='vscode-notebook-cell:/e%3A/Intellectual%20Content/GMT/Gig-Econ/Strategic%20Programmer/Crypto%20API/Crypto-API-SP-/Bot%20Trading%20Assessment/ConvertApp/roughwork.ipynb#W1sZmlsZQ%3D%3D?line=22'>23</a>\u001b[0m     \u001b[39mself\u001b[39m\u001b[39m.\u001b[39mframe\u001b[39m=\u001b[39mpd\u001b[39m.\u001b[39mDataFrame(data)\n\u001b[0;32m     <a href='vscode-notebook-cell:/e%3A/Intellectual%20Content/GMT/Gig-Econ/Strategic%20Programmer/Crypto%20API/Crypto-API-SP-/Bot%20Trading%20Assessment/ConvertApp/roughwork.ipynb#W1sZmlsZQ%3D%3D?line=23'>24</a>\u001b[0m     \u001b[39mself\u001b[39m\u001b[39m.\u001b[39mframe\u001b[39m=\u001b[39m\u001b[39mself\u001b[39m\u001b[39m.\u001b[39mframe\u001b[39m.\u001b[39miloc[:,:\u001b[39m6\u001b[39m] \u001b[39m# All rows and column upto 6\u001b[39;00m\n",
      "File \u001b[1;32mc:\\Users\\GreHiDel\\anaconda3\\lib\\site-packages\\binance\\client.py:934\u001b[0m, in \u001b[0;36mClient.get_historical_klines\u001b[1;34m(self, symbol, interval, start_str, end_str, limit, klines_type)\u001b[0m\n\u001b[0;32m    914\u001b[0m \u001b[39mdef\u001b[39;00m \u001b[39mget_historical_klines\u001b[39m(\u001b[39mself\u001b[39m, symbol, interval, start_str\u001b[39m=\u001b[39m\u001b[39mNone\u001b[39;00m, end_str\u001b[39m=\u001b[39m\u001b[39mNone\u001b[39;00m, limit\u001b[39m=\u001b[39m\u001b[39m1000\u001b[39m,\n\u001b[0;32m    915\u001b[0m                           klines_type: HistoricalKlinesType \u001b[39m=\u001b[39m HistoricalKlinesType\u001b[39m.\u001b[39mSPOT):\n\u001b[0;32m    916\u001b[0m     \u001b[39m\"\"\"Get Historical Klines from Binance\u001b[39;00m\n\u001b[0;32m    917\u001b[0m \n\u001b[0;32m    918\u001b[0m \u001b[39m    :param symbol: Name of symbol pair e.g BNBBTC\u001b[39;00m\n\u001b[1;32m   (...)\u001b[0m\n\u001b[0;32m    932\u001b[0m \n\u001b[0;32m    933\u001b[0m \u001b[39m    \"\"\"\u001b[39;00m\n\u001b[1;32m--> 934\u001b[0m     \u001b[39mreturn\u001b[39;00m \u001b[39mself\u001b[39;49m\u001b[39m.\u001b[39;49m_historical_klines(\n\u001b[0;32m    935\u001b[0m         symbol, interval, start_str\u001b[39m=\u001b[39;49mstart_str, end_str\u001b[39m=\u001b[39;49mend_str, limit\u001b[39m=\u001b[39;49mlimit, klines_type\u001b[39m=\u001b[39;49mklines_type\n\u001b[0;32m    936\u001b[0m     )\n",
      "File \u001b[1;32mc:\\Users\\GreHiDel\\anaconda3\\lib\\site-packages\\binance\\client.py:969\u001b[0m, in \u001b[0;36mClient._historical_klines\u001b[1;34m(self, symbol, interval, start_str, end_str, limit, klines_type)\u001b[0m\n\u001b[0;32m    966\u001b[0m timeframe \u001b[39m=\u001b[39m interval_to_milliseconds(interval)\n\u001b[0;32m    968\u001b[0m \u001b[39m# if a start time was passed convert it\u001b[39;00m\n\u001b[1;32m--> 969\u001b[0m start_ts \u001b[39m=\u001b[39m convert_ts_str(start_str)\n\u001b[0;32m    971\u001b[0m \u001b[39m# establish first available start timestamp\u001b[39;00m\n\u001b[0;32m    972\u001b[0m \u001b[39mif\u001b[39;00m start_ts \u001b[39mis\u001b[39;00m \u001b[39mnot\u001b[39;00m \u001b[39mNone\u001b[39;00m:\n",
      "File \u001b[1;32mc:\\Users\\GreHiDel\\anaconda3\\lib\\site-packages\\binance\\helpers.py:76\u001b[0m, in \u001b[0;36mconvert_ts_str\u001b[1;34m(ts_str)\u001b[0m\n\u001b[0;32m     74\u001b[0m \u001b[39mif\u001b[39;00m \u001b[39mtype\u001b[39m(ts_str) \u001b[39m==\u001b[39m \u001b[39mint\u001b[39m:\n\u001b[0;32m     75\u001b[0m     \u001b[39mreturn\u001b[39;00m ts_str\n\u001b[1;32m---> 76\u001b[0m \u001b[39mreturn\u001b[39;00m date_to_milliseconds(ts_str)\n",
      "File \u001b[1;32mc:\\Users\\GreHiDel\\anaconda3\\lib\\site-packages\\binance\\helpers.py:24\u001b[0m, in \u001b[0;36mdate_to_milliseconds\u001b[1;34m(date_str)\u001b[0m\n\u001b[0;32m     22\u001b[0m epoch: datetime \u001b[39m=\u001b[39m datetime\u001b[39m.\u001b[39mutcfromtimestamp(\u001b[39m0\u001b[39m)\u001b[39m.\u001b[39mreplace(tzinfo\u001b[39m=\u001b[39mpytz\u001b[39m.\u001b[39mutc)\n\u001b[0;32m     23\u001b[0m \u001b[39m# parse our date string\u001b[39;00m\n\u001b[1;32m---> 24\u001b[0m d: Optional[datetime] \u001b[39m=\u001b[39m dateparser\u001b[39m.\u001b[39;49mparse(date_str, settings\u001b[39m=\u001b[39;49m{\u001b[39m'\u001b[39;49m\u001b[39mTIMEZONE\u001b[39;49m\u001b[39m'\u001b[39;49m: \u001b[39m\"\u001b[39;49m\u001b[39mUTC\u001b[39;49m\u001b[39m\"\u001b[39;49m})\n\u001b[0;32m     25\u001b[0m \u001b[39mif\u001b[39;00m \u001b[39mnot\u001b[39;00m d:\n\u001b[0;32m     26\u001b[0m     \u001b[39mraise\u001b[39;00m UnknownDateFormat(date_str)\n",
      "File \u001b[1;32mc:\\Users\\GreHiDel\\anaconda3\\lib\\site-packages\\dateparser\\conf.py:89\u001b[0m, in \u001b[0;36mapply_settings.<locals>.wrapper\u001b[1;34m(*args, **kwargs)\u001b[0m\n\u001b[0;32m     86\u001b[0m \u001b[39mif\u001b[39;00m \u001b[39mnot\u001b[39;00m \u001b[39misinstance\u001b[39m(kwargs[\u001b[39m'\u001b[39m\u001b[39msettings\u001b[39m\u001b[39m'\u001b[39m], Settings):\n\u001b[0;32m     87\u001b[0m     \u001b[39mraise\u001b[39;00m \u001b[39mTypeError\u001b[39;00m(\u001b[39m\"\u001b[39m\u001b[39msettings can only be either dict or instance of Settings class\u001b[39m\u001b[39m\"\u001b[39m)\n\u001b[1;32m---> 89\u001b[0m \u001b[39mreturn\u001b[39;00m f(\u001b[39m*\u001b[39margs, \u001b[39m*\u001b[39m\u001b[39m*\u001b[39mkwargs)\n",
      "File \u001b[1;32mc:\\Users\\GreHiDel\\anaconda3\\lib\\site-packages\\dateparser\\__init__.py:54\u001b[0m, in \u001b[0;36mparse\u001b[1;34m(date_string, date_formats, languages, locales, region, settings)\u001b[0m\n\u001b[0;32m     50\u001b[0m \u001b[39mif\u001b[39;00m languages \u001b[39mor\u001b[39;00m locales \u001b[39mor\u001b[39;00m region \u001b[39mor\u001b[39;00m \u001b[39mnot\u001b[39;00m settings\u001b[39m.\u001b[39m_default:\n\u001b[0;32m     51\u001b[0m     parser \u001b[39m=\u001b[39m DateDataParser(languages\u001b[39m=\u001b[39mlanguages, locales\u001b[39m=\u001b[39mlocales,\n\u001b[0;32m     52\u001b[0m                             region\u001b[39m=\u001b[39mregion, settings\u001b[39m=\u001b[39msettings)\n\u001b[1;32m---> 54\u001b[0m data \u001b[39m=\u001b[39m parser\u001b[39m.\u001b[39;49mget_date_data(date_string, date_formats)\n\u001b[0;32m     56\u001b[0m \u001b[39mif\u001b[39;00m data:\n\u001b[0;32m     57\u001b[0m     \u001b[39mreturn\u001b[39;00m data[\u001b[39m'\u001b[39m\u001b[39mdate_obj\u001b[39m\u001b[39m'\u001b[39m]\n",
      "File \u001b[1;32mc:\\Users\\GreHiDel\\anaconda3\\lib\\site-packages\\dateparser\\date.py:421\u001b[0m, in \u001b[0;36mDateDataParser.get_date_data\u001b[1;34m(self, date_string, date_formats)\u001b[0m\n\u001b[0;32m    418\u001b[0m date_string \u001b[39m=\u001b[39m sanitize_date(date_string)\n\u001b[0;32m    420\u001b[0m \u001b[39mfor\u001b[39;00m locale \u001b[39min\u001b[39;00m \u001b[39mself\u001b[39m\u001b[39m.\u001b[39m_get_applicable_locales(date_string):\n\u001b[1;32m--> 421\u001b[0m     parsed_date \u001b[39m=\u001b[39m _DateLocaleParser\u001b[39m.\u001b[39;49mparse(\n\u001b[0;32m    422\u001b[0m         locale, date_string, date_formats, settings\u001b[39m=\u001b[39;49m\u001b[39mself\u001b[39;49m\u001b[39m.\u001b[39;49m_settings)\n\u001b[0;32m    423\u001b[0m     \u001b[39mif\u001b[39;00m parsed_date:\n\u001b[0;32m    424\u001b[0m         parsed_date[\u001b[39m'\u001b[39m\u001b[39mlocale\u001b[39m\u001b[39m'\u001b[39m] \u001b[39m=\u001b[39m locale\u001b[39m.\u001b[39mshortname\n",
      "File \u001b[1;32mc:\\Users\\GreHiDel\\anaconda3\\lib\\site-packages\\dateparser\\date.py:178\u001b[0m, in \u001b[0;36m_DateLocaleParser.parse\u001b[1;34m(cls, locale, date_string, date_formats, settings)\u001b[0m\n\u001b[0;32m    175\u001b[0m \u001b[39m@classmethod\u001b[39m\n\u001b[0;32m    176\u001b[0m \u001b[39mdef\u001b[39;00m \u001b[39mparse\u001b[39m(\u001b[39mcls\u001b[39m, locale, date_string, date_formats\u001b[39m=\u001b[39m\u001b[39mNone\u001b[39;00m, settings\u001b[39m=\u001b[39m\u001b[39mNone\u001b[39;00m):\n\u001b[0;32m    177\u001b[0m     instance \u001b[39m=\u001b[39m \u001b[39mcls\u001b[39m(locale, date_string, date_formats, settings)\n\u001b[1;32m--> 178\u001b[0m     \u001b[39mreturn\u001b[39;00m instance\u001b[39m.\u001b[39;49m_parse()\n",
      "File \u001b[1;32mc:\\Users\\GreHiDel\\anaconda3\\lib\\site-packages\\dateparser\\date.py:182\u001b[0m, in \u001b[0;36m_DateLocaleParser._parse\u001b[1;34m(self)\u001b[0m\n\u001b[0;32m    180\u001b[0m \u001b[39mdef\u001b[39;00m \u001b[39m_parse\u001b[39m(\u001b[39mself\u001b[39m):\n\u001b[0;32m    181\u001b[0m     \u001b[39mfor\u001b[39;00m parser_name \u001b[39min\u001b[39;00m \u001b[39mself\u001b[39m\u001b[39m.\u001b[39m_settings\u001b[39m.\u001b[39mPARSERS:\n\u001b[1;32m--> 182\u001b[0m         date_data \u001b[39m=\u001b[39m \u001b[39mself\u001b[39;49m\u001b[39m.\u001b[39;49m_parsers[parser_name]()\n\u001b[0;32m    183\u001b[0m         \u001b[39mif\u001b[39;00m \u001b[39mself\u001b[39m\u001b[39m.\u001b[39m_is_valid_date_data(date_data):\n\u001b[0;32m    184\u001b[0m             \u001b[39mreturn\u001b[39;00m date_data\n",
      "File \u001b[1;32mc:\\Users\\GreHiDel\\anaconda3\\lib\\site-packages\\dateparser\\date.py:196\u001b[0m, in \u001b[0;36m_DateLocaleParser._try_freshness_parser\u001b[1;34m(self)\u001b[0m\n\u001b[0;32m    194\u001b[0m \u001b[39mdef\u001b[39;00m \u001b[39m_try_freshness_parser\u001b[39m(\u001b[39mself\u001b[39m):\n\u001b[0;32m    195\u001b[0m     \u001b[39mtry\u001b[39;00m:\n\u001b[1;32m--> 196\u001b[0m         \u001b[39mreturn\u001b[39;00m freshness_date_parser\u001b[39m.\u001b[39mget_date_data(\u001b[39mself\u001b[39;49m\u001b[39m.\u001b[39;49m_get_translated_date(), \u001b[39mself\u001b[39m\u001b[39m.\u001b[39m_settings)\n\u001b[0;32m    197\u001b[0m     \u001b[39mexcept\u001b[39;00m (\u001b[39mOverflowError\u001b[39;00m, \u001b[39mValueError\u001b[39;00m):\n\u001b[0;32m    198\u001b[0m         \u001b[39mreturn\u001b[39;00m \u001b[39mNone\u001b[39;00m\n",
      "File \u001b[1;32mc:\\Users\\GreHiDel\\anaconda3\\lib\\site-packages\\dateparser\\date.py:234\u001b[0m, in \u001b[0;36m_DateLocaleParser._get_translated_date\u001b[1;34m(self)\u001b[0m\n\u001b[0;32m    232\u001b[0m \u001b[39mdef\u001b[39;00m \u001b[39m_get_translated_date\u001b[39m(\u001b[39mself\u001b[39m):\n\u001b[0;32m    233\u001b[0m     \u001b[39mif\u001b[39;00m \u001b[39mself\u001b[39m\u001b[39m.\u001b[39m_translated_date \u001b[39mis\u001b[39;00m \u001b[39mNone\u001b[39;00m:\n\u001b[1;32m--> 234\u001b[0m         \u001b[39mself\u001b[39m\u001b[39m.\u001b[39m_translated_date \u001b[39m=\u001b[39m \u001b[39mself\u001b[39;49m\u001b[39m.\u001b[39;49mlocale\u001b[39m.\u001b[39;49mtranslate(\n\u001b[0;32m    235\u001b[0m             \u001b[39mself\u001b[39;49m\u001b[39m.\u001b[39;49mdate_string, keep_formatting\u001b[39m=\u001b[39;49m\u001b[39mFalse\u001b[39;49;00m, settings\u001b[39m=\u001b[39;49m\u001b[39mself\u001b[39;49m\u001b[39m.\u001b[39;49m_settings)\n\u001b[0;32m    236\u001b[0m     \u001b[39mreturn\u001b[39;00m \u001b[39mself\u001b[39m\u001b[39m.\u001b[39m_translated_date\n",
      "File \u001b[1;32mc:\\Users\\GreHiDel\\anaconda3\\lib\\site-packages\\dateparser\\languages\\locale.py:131\u001b[0m, in \u001b[0;36mLocale.translate\u001b[1;34m(self, date_string, keep_formatting, settings)\u001b[0m\n\u001b[0;32m    128\u001b[0m dictionary \u001b[39m=\u001b[39m \u001b[39mself\u001b[39m\u001b[39m.\u001b[39m_get_dictionary(settings)\n\u001b[0;32m    129\u001b[0m date_string_tokens \u001b[39m=\u001b[39m dictionary\u001b[39m.\u001b[39msplit(date_string, keep_formatting)\n\u001b[1;32m--> 131\u001b[0m relative_translations \u001b[39m=\u001b[39m \u001b[39mself\u001b[39;49m\u001b[39m.\u001b[39;49m_get_relative_translations(settings\u001b[39m=\u001b[39;49msettings)\n\u001b[0;32m    133\u001b[0m \u001b[39mfor\u001b[39;00m i, word \u001b[39min\u001b[39;00m \u001b[39menumerate\u001b[39m(date_string_tokens):\n\u001b[0;32m    134\u001b[0m     word \u001b[39m=\u001b[39m word\u001b[39m.\u001b[39mlower()\n",
      "File \u001b[1;32mc:\\Users\\GreHiDel\\anaconda3\\lib\\site-packages\\dateparser\\languages\\locale.py:158\u001b[0m, in \u001b[0;36mLocale._get_relative_translations\u001b[1;34m(self, settings)\u001b[0m\n\u001b[0;32m    155\u001b[0m \u001b[39mif\u001b[39;00m settings\u001b[39m.\u001b[39mNORMALIZE:\n\u001b[0;32m    156\u001b[0m     \u001b[39mif\u001b[39;00m \u001b[39mself\u001b[39m\u001b[39m.\u001b[39m_normalized_relative_translations \u001b[39mis\u001b[39;00m \u001b[39mNone\u001b[39;00m:\n\u001b[0;32m    157\u001b[0m         \u001b[39mself\u001b[39m\u001b[39m.\u001b[39m_normalized_relative_translations \u001b[39m=\u001b[39m (\n\u001b[1;32m--> 158\u001b[0m             \u001b[39mself\u001b[39;49m\u001b[39m.\u001b[39;49m_generate_relative_translations(normalize\u001b[39m=\u001b[39;49m\u001b[39mTrue\u001b[39;49;00m))\n\u001b[0;32m    159\u001b[0m     \u001b[39mreturn\u001b[39;00m \u001b[39mself\u001b[39m\u001b[39m.\u001b[39m_normalized_relative_translations\n\u001b[0;32m    160\u001b[0m \u001b[39melse\u001b[39;00m:\n",
      "File \u001b[1;32mc:\\Users\\GreHiDel\\anaconda3\\lib\\site-packages\\dateparser\\languages\\locale.py:172\u001b[0m, in \u001b[0;36mLocale._generate_relative_translations\u001b[1;34m(self, normalize)\u001b[0m\n\u001b[0;32m    170\u001b[0m     value \u001b[39m=\u001b[39m \u001b[39mlist\u001b[39m(\u001b[39mmap\u001b[39m(normalize_unicode, value))\n\u001b[0;32m    171\u001b[0m pattern \u001b[39m=\u001b[39m \u001b[39m'\u001b[39m\u001b[39m|\u001b[39m\u001b[39m'\u001b[39m\u001b[39m.\u001b[39mjoin(\u001b[39msorted\u001b[39m(value, key\u001b[39m=\u001b[39m\u001b[39mlen\u001b[39m, reverse\u001b[39m=\u001b[39m\u001b[39mTrue\u001b[39;00m))\n\u001b[1;32m--> 172\u001b[0m pattern \u001b[39m=\u001b[39m DIGIT_GROUP_PATTERN\u001b[39m.\u001b[39;49msub(\u001b[39mr\u001b[39;49m\u001b[39m'\u001b[39;49m\u001b[39m?P<n>\u001b[39;49m\u001b[39m\\\u001b[39;49m\u001b[39md+\u001b[39;49m\u001b[39m'\u001b[39;49m, pattern)\n\u001b[0;32m    173\u001b[0m pattern \u001b[39m=\u001b[39m re\u001b[39m.\u001b[39mcompile(\u001b[39mr\u001b[39m\u001b[39m'\u001b[39m\u001b[39m^(?:\u001b[39m\u001b[39m{}\u001b[39;00m\u001b[39m)$\u001b[39m\u001b[39m'\u001b[39m\u001b[39m.\u001b[39mformat(pattern), re\u001b[39m.\u001b[39mUNICODE \u001b[39m|\u001b[39m re\u001b[39m.\u001b[39mIGNORECASE)\n\u001b[0;32m    174\u001b[0m relative_dictionary[pattern] \u001b[39m=\u001b[39m key\n",
      "File \u001b[1;32mc:\\Users\\GreHiDel\\anaconda3\\lib\\site-packages\\regex\\regex.py:702\u001b[0m, in \u001b[0;36m_compile_replacement_helper\u001b[1;34m(pattern, template)\u001b[0m\n\u001b[0;32m    697\u001b[0m     \u001b[39mbreak\u001b[39;00m\n\u001b[0;32m    698\u001b[0m \u001b[39mif\u001b[39;00m ch \u001b[39m==\u001b[39m \u001b[39m\"\u001b[39m\u001b[39m\\\\\u001b[39;00m\u001b[39m\"\u001b[39m:\n\u001b[0;32m    699\u001b[0m     \u001b[39m# '_compile_replacement' will return either an int group reference\u001b[39;00m\n\u001b[0;32m    700\u001b[0m     \u001b[39m# or a string literal. It returns items (plural) in order to handle\u001b[39;00m\n\u001b[0;32m    701\u001b[0m     \u001b[39m# a 2-character literal (an invalid escape sequence).\u001b[39;00m\n\u001b[1;32m--> 702\u001b[0m     is_group, items \u001b[39m=\u001b[39m _compile_replacement(source, pattern, is_unicode)\n\u001b[0;32m    703\u001b[0m     \u001b[39mif\u001b[39;00m is_group:\n\u001b[0;32m    704\u001b[0m         \u001b[39m# It's a group, so first flush the literal.\u001b[39;00m\n\u001b[0;32m    705\u001b[0m         \u001b[39mif\u001b[39;00m literal:\n",
      "File \u001b[1;32mc:\\Users\\GreHiDel\\anaconda3\\lib\\site-packages\\regex\\_regex_core.py:1737\u001b[0m, in \u001b[0;36m_compile_replacement\u001b[1;34m(source, pattern, is_unicode)\u001b[0m\n\u001b[0;32m   1734\u001b[0m         \u001b[39mif\u001b[39;00m value \u001b[39mis\u001b[39;00m \u001b[39mnot\u001b[39;00m \u001b[39mNone\u001b[39;00m:\n\u001b[0;32m   1735\u001b[0m             \u001b[39mreturn\u001b[39;00m \u001b[39mFalse\u001b[39;00m, [value]\n\u001b[1;32m-> 1737\u001b[0m     \u001b[39mraise\u001b[39;00m error(\u001b[39m\"\u001b[39m\u001b[39mbad escape \u001b[39m\u001b[39m\\\\\u001b[39;00m\u001b[39m%s\u001b[39;00m\u001b[39m\"\u001b[39m \u001b[39m%\u001b[39m ch, source\u001b[39m.\u001b[39mstring, source\u001b[39m.\u001b[39mpos)\n\u001b[0;32m   1739\u001b[0m \u001b[39mif\u001b[39;00m \u001b[39misinstance\u001b[39m(source\u001b[39m.\u001b[39msep, \u001b[39mbytes\u001b[39m):\n\u001b[0;32m   1740\u001b[0m     octal_mask \u001b[39m=\u001b[39m \u001b[39m0xFF\u001b[39m\n",
      "\u001b[1;31merror\u001b[0m: bad escape \\d at position 7"
     ]
    }
   ],
   "source": [
    "Trade(tradesymbol1='ETH',tradesymbol2='USDT',tickerSymbol='ETHUSDT',targetProfit=15)"
   ]
  },
  {
   "cell_type": "code",
   "execution_count": null,
   "metadata": {},
   "outputs": [],
   "source": [
    "ticker_symbol=self.tickerSymbol, period_interval=self.period, lookback_period=self.lookback"
   ]
  }
 ],
 "metadata": {
  "kernelspec": {
   "display_name": "Python 3.9.7 ('base')",
   "language": "python",
   "name": "python3"
  },
  "language_info": {
   "codemirror_mode": {
    "name": "ipython",
    "version": 3
   },
   "file_extension": ".py",
   "mimetype": "text/x-python",
   "name": "python",
   "nbconvert_exporter": "python",
   "pygments_lexer": "ipython3",
   "version": "3.9.7"
  },
  "orig_nbformat": 4,
  "vscode": {
   "interpreter": {
    "hash": "b0e6aa0c7315559b465a56df7745b95956df913857210652a8e0ee148ea9e296"
   }
  }
 },
 "nbformat": 4,
 "nbformat_minor": 2
}
